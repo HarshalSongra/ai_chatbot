{
 "cells": [
  {
   "cell_type": "code",
   "execution_count": 1,
   "id": "f9750369",
   "metadata": {},
   "outputs": [
    {
     "name": "stdout",
     "output_type": "stream",
     "text": [
      "INFO:tensorflow:Enabling eager execution\n",
      "INFO:tensorflow:Enabling v2 tensorshape\n",
      "INFO:tensorflow:Enabling resource variables\n",
      "INFO:tensorflow:Enabling tensor equality\n",
      "INFO:tensorflow:Enabling control flow v2\n",
      "INFO:tensorflow:Disabling eager execution\n",
      "INFO:tensorflow:Disabling v2 tensorshape\n",
      "WARNING:tensorflow:From C:\\Users\\HarShaL\\AppData\\Roaming\\Python\\Python39\\site-packages\\tensorflow\\python\\compat\\v2_compat.py:96: disable_resource_variables (from tensorflow.python.ops.variable_scope) is deprecated and will be removed in a future version.\n",
      "Instructions for updating:\n",
      "non-resource variables are not supported in the long term\n",
      "INFO:tensorflow:Disabling resource variables\n",
      "INFO:tensorflow:Disabling tensor equality\n",
      "INFO:tensorflow:Disabling control flow v2\n",
      "curses is not supported on this machine (please install/reinstall curses for an optimal experience)\n"
     ]
    }
   ],
   "source": [
    "import nltk\n",
    "from nltk.stem.lancaster import LancasterStemmer\n",
    "import numpy as np\n",
    "import tflearn\n",
    "import tensorflow\n",
    "import random\n",
    "import json\n",
    "import pickle\n",
    "from tensorflow.python.framework import ops"
   ]
  },
  {
   "cell_type": "code",
   "execution_count": 2,
   "id": "69f21e20",
   "metadata": {},
   "outputs": [],
   "source": [
    "# nltk.download('punkt')\n",
    "stemmer = LancasterStemmer()"
   ]
  },
  {
   "cell_type": "code",
   "execution_count": 3,
   "id": "0e512f34",
   "metadata": {},
   "outputs": [],
   "source": [
    "with open('intents.json') as file:\n",
    "    data =  json.load(file)"
   ]
  },
  {
   "cell_type": "code",
   "execution_count": 4,
   "id": "7e9d50c5",
   "metadata": {},
   "outputs": [],
   "source": [
    "\n",
    "# have each word in pattern\n",
    "words = []\n",
    "# tags\n",
    "labels = []\n",
    "# patterns\n",
    "doc_x = []\n",
    "doc_y = []"
   ]
  },
  {
   "cell_type": "code",
   "execution_count": 5,
   "id": "b167edac",
   "metadata": {},
   "outputs": [],
   "source": [
    "for intent in data['intents']:\n",
    "    for pattern in intent['patterns']:\n",
    "        # saperates the word from string\n",
    "        wrds = nltk.word_tokenize(pattern)\n",
    "        words.extend(wrds)\n",
    "        doc_x.append(pattern)\n",
    "        doc_y.append(intent['tag'])\n",
    "\n",
    "        if intent['tag'] not in labels:\n",
    "            labels.append(intent['tag'])"
   ]
  },
  {
   "cell_type": "code",
   "execution_count": 6,
   "id": "b59753af",
   "metadata": {},
   "outputs": [
    {
     "name": "stdout",
     "output_type": "stream",
     "text": [
      "Words:  ['Hi', 'How', 'are', 'you', 'Is', 'anyone', 'there', '?', 'Hello', 'Good', 'day', 'Whats', 'up', 'cya', 'See', 'you', 'later', 'Goodbye', 'I', 'am', 'Leaving', 'Have', 'a', 'Good', 'day', 'how', 'old', 'how', 'old', 'is', 'tim', 'what', 'is', 'your', 'age', 'how', 'old', 'are', 'you', 'age', '?', 'what', 'is', 'your', 'name', 'what', 'should', 'I', 'call', 'you', 'whats', 'your', 'name', '?', 'Id', 'like', 'to', 'buy', 'something', 'whats', 'on', 'the', 'menu', 'what', 'do', 'you', 'reccommend', '?', 'could', 'i', 'get', 'something', 'to', 'eat', 'when', 'are', 'you', 'guys', 'open', 'what', 'are', 'your', 'hours', 'hours', 'of', 'operation']\n",
      "Labels ['greeting', 'goodbye', 'age', 'name', 'shop', 'hours']\n",
      "Doc_x ['Hi', 'How are you', 'Is anyone there?', 'Hello', 'Good day', 'Whats up', 'cya', 'See you later', 'Goodbye', 'I am Leaving', 'Have a Good day', 'how old', 'how old is tim', 'what is your age', 'how old are you', 'age?', 'what is your name', 'what should I call you', 'whats your name?', 'Id like to buy something', 'whats on the menu', 'what do you reccommend?', 'could i get something to eat', 'when are you guys open', 'what are your hours', 'hours of operation']\n",
      "Doc_y ['greeting', 'greeting', 'greeting', 'greeting', 'greeting', 'greeting', 'goodbye', 'goodbye', 'goodbye', 'goodbye', 'goodbye', 'age', 'age', 'age', 'age', 'age', 'name', 'name', 'name', 'shop', 'shop', 'shop', 'shop', 'hours', 'hours', 'hours']\n"
     ]
    }
   ],
   "source": [
    "print(\"Words: \",words)\n",
    "print(\"Labels\",labels)\n",
    "print(\"Doc_x\",doc_x)\n",
    "print(\"Doc_y\",doc_y)"
   ]
  },
  {
   "cell_type": "code",
   "execution_count": 7,
   "id": "b4071de7",
   "metadata": {},
   "outputs": [],
   "source": [
    "words = [stemmer.stem(w.lower()) for w in words]"
   ]
  },
  {
   "cell_type": "code",
   "execution_count": 8,
   "id": "e693f1ea",
   "metadata": {},
   "outputs": [
    {
     "name": "stdout",
     "output_type": "stream",
     "text": [
      "['hi', 'how', 'ar', 'you', 'is', 'anyon', 'ther', '?', 'hello', 'good', 'day', 'what', 'up', 'cya', 'see', 'you', 'lat', 'goodby', 'i', 'am', 'leav', 'hav', 'a', 'good', 'day', 'how', 'old', 'how', 'old', 'is', 'tim', 'what', 'is', 'yo', 'ag', 'how', 'old', 'ar', 'you', 'ag', '?', 'what', 'is', 'yo', 'nam', 'what', 'should', 'i', 'cal', 'you', 'what', 'yo', 'nam', '?', 'id', 'lik', 'to', 'buy', 'someth', 'what', 'on', 'the', 'menu', 'what', 'do', 'you', 'reccommend', '?', 'could', 'i', 'get', 'someth', 'to', 'eat', 'when', 'ar', 'you', 'guy', 'op', 'what', 'ar', 'yo', 'hour', 'hour', 'of', 'op']\n"
     ]
    }
   ],
   "source": [
    "print(words)"
   ]
  },
  {
   "cell_type": "code",
   "execution_count": 9,
   "id": "2c1e2488",
   "metadata": {},
   "outputs": [],
   "source": [
    "# set makes suere there is no duplicate words\n",
    "# list makes the set into list\n",
    "# and then its been sorted\n",
    "words = sorted(list(set(words)))\n",
    "# words"
   ]
  },
  {
   "cell_type": "code",
   "execution_count": 10,
   "id": "1d756970",
   "metadata": {},
   "outputs": [],
   "source": [
    "# words"
   ]
  },
  {
   "cell_type": "code",
   "execution_count": 11,
   "id": "9817eb29",
   "metadata": {},
   "outputs": [
    {
     "data": {
      "text/plain": [
       "['age', 'goodbye', 'greeting', 'hours', 'name', 'shop']"
      ]
     },
     "execution_count": 11,
     "metadata": {},
     "output_type": "execute_result"
    }
   ],
   "source": [
    "labels = sorted(labels)\n",
    "labels"
   ]
  },
  {
   "cell_type": "code",
   "execution_count": 12,
   "id": "16285a12",
   "metadata": {},
   "outputs": [],
   "source": [
    "# te"
   ]
  },
  {
   "cell_type": "code",
   "execution_count": 13,
   "id": "4b492f86",
   "metadata": {},
   "outputs": [],
   "source": [
    "try:\n",
    "    with open(\"data.pickle\", \"rb\") as f:\n",
    "        words, labels, training, output = pickle.load(f)\n",
    "\n",
    "except:\n",
    "    # have each word in pattern\n",
    "    words = []\n",
    "    # tags\n",
    "    labels = []\n",
    "    # patterns\n",
    "    doc_x = []\n",
    "    doc_y = []\n",
    "\n",
    "    for intent in data['intents']:\n",
    "        for pattern in intent['patterns']:\n",
    "            # saperates the word from string\n",
    "            wrds = nltk.word_tokenize(pattern)\n",
    "            words.extend(wrds)\n",
    "            doc_x.append(wrds)\n",
    "            doc_y.append(intent['tag'])\n",
    "\n",
    "            if intent['tag'] not in labels:\n",
    "                labels.append(intent['tag'])\n",
    "\n",
    "\n",
    "    # arranging data\n",
    "    words = [stemmer.stem(w.lower()) for w in words]\n",
    "    words = sorted(list(set(words)))\n",
    "\n",
    "    labels = sorted(labels)\n",
    "\n",
    "    training = []\n",
    "    output = []\n",
    "\n",
    "    out_empty = [0 for _ in range(len(labels))]\n",
    "\n",
    "    # saperating data for training and output\n",
    "    for x , doc in enumerate(doc_x):\n",
    "        bag = []\n",
    "        wrds = [stemmer.stem(w) for w in doc]\n",
    "        \n",
    "        for w in words:\n",
    "            if w in wrds:\n",
    "                bag.append(1)\n",
    "            else:\n",
    "                bag.append(0)\n",
    "        \n",
    "        output_row = out_empty[:]\n",
    "        output_row[labels.index(doc_y[x])] = 1\n",
    "        \n",
    "    training.append(bag)\n",
    "    output.append(output_row)  \n",
    "    \n",
    "    with open(\"data.pickle\", \"wb\") as f:\n",
    "        pickle.dump((words, labels, training, output), f)\n",
    "\n",
    "\n",
    "training = np.array(training)\n",
    "output = np.array(output)"
   ]
  },
  {
   "cell_type": "code",
   "execution_count": 14,
   "id": "93857985",
   "metadata": {},
   "outputs": [
    {
     "name": "stdout",
     "output_type": "stream",
     "text": [
      "WARNING:tensorflow:From C:\\Users\\HarShaL\\AppData\\Roaming\\Python\\Python39\\site-packages\\tflearn\\initializations.py:164: calling TruncatedNormal.__init__ (from tensorflow.python.ops.init_ops) with dtype is deprecated and will be removed in a future version.\n",
      "Instructions for updating:\n",
      "Call initializer instance with the dtype argument instead of passing it to the constructor\n"
     ]
    }
   ],
   "source": [
    "ops.reset_default_graph()\n",
    "\n",
    "# nuron connection\n",
    "\n",
    "# 47 * 8 * 8 * 6\n",
    "net = tflearn.input_data(shape=[None, len(training[0])])\n",
    "net = tflearn.fully_connected(net, 8)\n",
    "net = tflearn.fully_connected(net, 8)\n",
    "net = tflearn.fully_connected(net, len(output[0]), activation='softmax')\n",
    "net = tflearn.regression(net)\n",
    "\n",
    "# training model\n",
    "\n",
    "model = tflearn.DNN(net)"
   ]
  },
  {
   "cell_type": "code",
   "execution_count": 15,
   "id": "78ae156d",
   "metadata": {},
   "outputs": [
    {
     "name": "stdout",
     "output_type": "stream",
     "text": [
      "INFO:tensorflow:Restoring parameters from P:\\Python Chatbot\\model.tflearn\n"
     ]
    }
   ],
   "source": [
    "try:\n",
    "    model.load(\"model.tflearn\")\n",
    "\n",
    "except:\n",
    "    model.fit(training, output, n_epoch = 1000, batch_size=8, show_metric=True)\n",
    "    model.save('model.tflearn')"
   ]
  },
  {
   "cell_type": "code",
   "execution_count": 16,
   "id": "364abaa0",
   "metadata": {},
   "outputs": [],
   "source": [
    "def bag_of_words(s, words):\n",
    "    bag = [0 for _ in range(len(words))]\n",
    "\n",
    "    s_words = nltk.word_tokenize(s)\n",
    "    s_words = [stemmer.stem(word.lower()) for word in s_words]\n",
    "\n",
    "    for se in s_words:\n",
    "        for i, w in enumerate(words):\n",
    "            if w == se:\n",
    "                bag[i] = 1\n",
    "\n",
    "\n",
    "    return np.array(bag)\n"
   ]
  },
  {
   "cell_type": "code",
   "execution_count": 17,
   "id": "d08106ad",
   "metadata": {},
   "outputs": [],
   "source": [
    "def chat():\n",
    "    print(\"Start talking with the bot! (type quit to stop)\")\n",
    "    while True:\n",
    "        inp = input(\"You: \")\n",
    "        if inp.lower() == \"quit\":\n",
    "            print(\"Thanks for your good time\")\n",
    "            break\n",
    "            \n",
    "        results = model.predict([bag_of_words(inp, words)])\n",
    "        result_index = np.argmax(results)\n",
    "        tag = labels[result_index]\n",
    "        print(results)\n",
    "        print(result_index)\n",
    "        print(tag)"
   ]
  },
  {
   "cell_type": "code",
   "execution_count": null,
   "id": "5c442ff5",
   "metadata": {},
   "outputs": [
    {
     "name": "stdout",
     "output_type": "stream",
     "text": [
      "Start talking with the bot! (type quit to stop)\n",
      "You: hello\n",
      "[[0.29938087 0.21807158 0.37696758 0.01044051 0.0016073  0.09353221]]\n",
      "2\n",
      "greeting\n",
      "You: hiii\n",
      "[[0.3002157  0.2184573  0.37952858 0.00967375 0.00140404 0.0907206 ]]\n",
      "2\n",
      "greeting\n",
      "You: hours\n",
      "[[0.2962151  0.22502838 0.37983972 0.00967382 0.00131939 0.08792365]]\n",
      "2\n",
      "greeting\n",
      "You: goodbye\n",
      "[[0.3018167  0.21400939 0.37657958 0.01046091 0.00167723 0.09545609]]\n",
      "2\n",
      "greeting\n",
      "You: how old\n",
      "[[0.30289423 0.21451217 0.37987715 0.00949332 0.0014119  0.09181124]]\n",
      "2\n",
      "greeting\n"
     ]
    }
   ],
   "source": [
    "chat()"
   ]
  },
  {
   "cell_type": "code",
   "execution_count": null,
   "id": "396bc4c4",
   "metadata": {},
   "outputs": [],
   "source": []
  }
 ],
 "metadata": {
  "kernelspec": {
   "display_name": "Python 3",
   "language": "python",
   "name": "python3"
  },
  "language_info": {
   "codemirror_mode": {
    "name": "ipython",
    "version": 3
   },
   "file_extension": ".py",
   "mimetype": "text/x-python",
   "name": "python",
   "nbconvert_exporter": "python",
   "pygments_lexer": "ipython3",
   "version": "3.9.2"
  }
 },
 "nbformat": 4,
 "nbformat_minor": 5
}
